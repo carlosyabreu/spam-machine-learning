{
 "cells": [
  {
   "cell_type": "code",
   "execution_count": 1,
   "metadata": {},
   "outputs": [
    {
     "name": "stdout",
     "output_type": "stream",
     "text": [
      "Hello world\n"
     ]
    }
   ],
   "source": [
    "print('Hello world')"
   ]
  },
  {
   "cell_type": "code",
   "execution_count": 1,
   "metadata": {},
   "outputs": [
    {
     "data": {
      "text/plain": [
       "True"
      ]
     },
     "execution_count": 1,
     "metadata": {},
     "output_type": "execute_result"
    }
   ],
   "source": [
    "isinstance({1: \"one\", 2: \"two\"}, dict)\n"
   ]
  },
  {
   "cell_type": "code",
   "execution_count": 2,
   "metadata": {},
   "outputs": [
    {
     "data": {
      "text/plain": [
       "True"
      ]
     },
     "execution_count": 2,
     "metadata": {},
     "output_type": "execute_result"
    }
   ],
   "source": [
    "# issubclass\n",
    "class Parent: \n",
    "    pass\n",
    "\n",
    "class Child(Parent):\n",
    "    pass\n",
    "\n",
    "issubclass(Child, Parent)\n"
   ]
  },
  {
   "cell_type": "code",
   "execution_count": null,
   "metadata": {},
   "outputs": [
    {
     "name": "stdout",
     "output_type": "stream",
     "text": [
      "1\n",
      "9\n",
      "7\n",
      "19\n",
      "10\n"
     ]
    }
   ],
   "source": [
    "my_list = [1, 9, 7, 19, 10]\n",
    "my_iter = iter(my_list)\n",
    "\n",
    "for list in my_iter:\n",
    "    print(list)\n",
    "\n"
   ]
  },
  {
   "cell_type": "code",
   "execution_count": 16,
   "metadata": {},
   "outputs": [
    {
     "data": {
      "text/plain": [
       "[2, 3]"
      ]
     },
     "execution_count": 16,
     "metadata": {},
     "output_type": "execute_result"
    }
   ],
   "source": [
    "my_list = [1, 2, 3, 4, 5]\n",
    "my_slice = slice(1, 3)\n",
    "my_list[my_slice]\n"
   ]
  },
  {
   "cell_type": "code",
   "execution_count": 1,
   "metadata": {},
   "outputs": [
    {
     "name": "stdout",
     "output_type": "stream",
     "text": [
      "is\n"
     ]
    }
   ],
   "source": [
    "sentence = \"This is a sentence\"\n",
    "print(sentence[5:7])"
   ]
  },
  {
   "cell_type": "code",
   "execution_count": null,
   "metadata": {},
   "outputs": [
    {
     "name": "stdout",
     "output_type": "stream",
     "text": [
      "This is a phrase\n",
      "1his is a phrase\n"
     ]
    }
   ],
   "source": [
    "phrase = \"This is a phrase\"\n",
    "print(phrase)\n",
    "\n",
    "phrase = \"1\" + phrase[1:]\n",
    "print(phrase)\n"
   ]
  },
  {
   "cell_type": "code",
   "execution_count": 3,
   "metadata": {},
   "outputs": [
    {
     "name": "stdout",
     "output_type": "stream",
     "text": [
      "This is just a text with number 34\n"
     ]
    }
   ],
   "source": [
    "print(\"This is just a text with number {}\".format(34))\n"
   ]
  },
  {
   "cell_type": "code",
   "execution_count": 2,
   "metadata": {},
   "outputs": [
    {
     "name": "stdout",
     "output_type": "stream",
     "text": [
      "3.3333333333333335\n",
      "3\n"
     ]
    }
   ],
   "source": [
    "a = 10\n",
    "b = 3\n",
    "\n",
    "print(a / b)\n",
    "print(round(a / b))\n"
   ]
  },
  {
   "cell_type": "code",
   "execution_count": 9,
   "metadata": {},
   "outputs": [
    {
     "name": "stdout",
     "output_type": "stream",
     "text": [
      "The given number is greater than 10\n"
     ]
    }
   ],
   "source": [
    "num = input(\"Insert a number: \")\n",
    "num = int(num)\n",
    "\n",
    "if num < 0:\n",
    "    print('The given number is smaller than 0')\n",
    "elif num >= 0 and num <= 10:\n",
    "    print('The given number is within the range 0 and 10')\n",
    "else:\n",
    "    print('The given number is greater than 10')\n"
   ]
  },
  {
   "cell_type": "code",
   "execution_count": 14,
   "metadata": {},
   "outputs": [
    {
     "name": "stdout",
     "output_type": "stream",
     "text": [
      "2.5\n"
     ]
    }
   ],
   "source": [
    "counter = 0\n",
    "total = 0\n",
    "\n",
    "for num in range(6):\n",
    "    total += num\n",
    "    counter += 1\n",
    "\n",
    "average = total / counter\n",
    "print(average)\n"
   ]
  },
  {
   "cell_type": "code",
   "execution_count": 18,
   "metadata": {},
   "outputs": [
    {
     "name": "stdout",
     "output_type": "stream",
     "text": [
      "0\n",
      "2\n",
      "4\n",
      "6\n",
      "8\n",
      "The for loop is finished\n"
     ]
    }
   ],
   "source": [
    "for num in range(0, 10, 2):\n",
    "    if num == 5 and num == 6 and num == 7:\n",
    "        continue\n",
    "    print(num)\n",
    "else:\n",
    "    print('The for loop is finished')\n"
   ]
  },
  {
   "cell_type": "code",
   "execution_count": 2,
   "metadata": {},
   "outputs": [
    {
     "name": "stdout",
     "output_type": "stream",
     "text": [
      "0\n",
      "1\n",
      "1\n",
      "2\n",
      "3\n",
      "5\n",
      "8\n",
      "13\n",
      "21\n"
     ]
    }
   ],
   "source": [
    "a, b = 0, 1\n",
    "\n",
    "for counter in range(1, 10):\n",
    "   print(a)\n",
    "    \n",
    "   a, b = b, a + b\n"
   ]
  },
  {
   "cell_type": "code",
   "execution_count": 3,
   "metadata": {},
   "outputs": [
    {
     "name": "stdout",
     "output_type": "stream",
     "text": [
      "Peter\n",
      "Paul\n",
      "Ann\n",
      "Joe\n",
      "John\n"
     ]
    }
   ],
   "source": [
    "def show_name(*names):\n",
    "    for idx in range(len(names)):\n",
    "        print(names[idx])\n",
    "\n",
    "show_name(\"Peter\", \"Paul\", \"Ann\", \"Joe\", \"John\")\n"
   ]
  },
  {
   "cell_type": "code",
   "execution_count": 5,
   "metadata": {},
   "outputs": [
    {
     "name": "stdout",
     "output_type": "stream",
     "text": [
      "True\n",
      "1\n"
     ]
    }
   ],
   "source": [
    "def operation(x):\n",
    "    if x % 2 == 0:\n",
    "        return True, 1\n",
    "    else:\n",
    "        return False, -1\n",
    "    \n",
    "result = operation(10)\n",
    "print(result[0])\n",
    "print(result[1])\n",
    "\n"
   ]
  },
  {
   "cell_type": "code",
   "execution_count": 6,
   "metadata": {},
   "outputs": [
    {
     "name": "stdout",
     "output_type": "stream",
     "text": [
      "1\n"
     ]
    }
   ],
   "source": [
    "def number(x):\n",
    "    if x < 0:\n",
    "        return 0\n",
    "    else:\n",
    "        return 1\n",
    "    \n",
    "num = number(10)\n",
    "print(num)\n"
   ]
  },
  {
   "cell_type": "code",
   "execution_count": 8,
   "metadata": {},
   "outputs": [
    {
     "name": "stdout",
     "output_type": "stream",
     "text": [
      "0\n",
      "2\n",
      "4\n",
      "6\n",
      "8\n"
     ]
    }
   ],
   "source": [
    "def producer():\n",
    "    for num in range(0, 10, 1):\n",
    "        if num % 2 == 0:\n",
    "            yield num\n",
    "\n",
    "for num in producer():\n",
    "    print(num)\n"
   ]
  },
  {
   "cell_type": "code",
   "execution_count": null,
   "metadata": {},
   "outputs": [],
   "source": [
    "def recursive_function(text, index):\n",
    "    if index == 0:\n",
    "        return text[0]\n",
    "    return recursive_function(text, index(n - 1))\n",
    "\n"
   ]
  },
  {
   "cell_type": "code",
   "execution_count": null,
   "metadata": {},
   "outputs": [],
   "source": [
    "# [5, 10]\n",
    "def square_num():\n",
    "    numbers = [5, 10]\n",
    "    square_n = []\n",
    "    for num in numbers:\n",
    "        square_n = square(num).append\n",
    "\n"
   ]
  },
  {
   "cell_type": "code",
   "execution_count": 2,
   "metadata": {},
   "outputs": [
    {
     "name": "stdout",
     "output_type": "stream",
     "text": [
      "{'Adam': 34, 'Ana': 12, 'Daniel': 54}\n"
     ]
    }
   ],
   "source": [
    "names = {'Adam', 'Daniel', 'Ana'}\n",
    "ages = {34, 12, 54}\n",
    "\n",
    "my_dict = {}\n",
    "\n",
    "for key, value in zip(names, ages):\n",
    "    my_dict[key] = value\n",
    "\n",
    "print(my_dict)\n"
   ]
  },
  {
   "cell_type": "code",
   "execution_count": 14,
   "metadata": {},
   "outputs": [
    {
     "name": "stdout",
     "output_type": "stream",
     "text": [
      "[('Juli', 5), ('Anna Summer', 8), ('Claudia', 10), ('Pet', 20)]\n",
      "<class 'list'>\n"
     ]
    }
   ],
   "source": [
    "# my_number = [3, 5, 10, 20, 2, -8]\n",
    "# result = sorted(my_number, reverse=True)\n",
    "# print(result)\n",
    "\n",
    "def dict_length(x):\n",
    "    return x[1]\n",
    "\n",
    "my_dict = {'Pet': 20, 'Juli': 5, 'Claudia': 10, 'Anna Summer': 8}\n",
    "dict_result = sorted(my_dict.items(), key=dict_length)\n",
    "print(dict_result)\n",
    "print(type(dict_result))\n"
   ]
  },
  {
   "cell_type": "code",
   "execution_count": null,
   "metadata": {},
   "outputs": [
    {
     "name": "stdout",
     "output_type": "stream",
     "text": [
      "Charles\n",
      "The name is Charles\n"
     ]
    }
   ],
   "source": [
    "class Person:\n",
    "    name = 'Charles'\n",
    "\n",
    "    def show_name(self):\n",
    "        print('The name is ' + self.name)\n",
    "\n",
    "person = Person()\n",
    "print(person.name)\n",
    "person.show_name()\n"
   ]
  }
 ],
 "metadata": {
  "kernelspec": {
   "display_name": ".venv",
   "language": "python",
   "name": "python3"
  },
  "language_info": {
   "codemirror_mode": {
    "name": "ipython",
    "version": 3
   },
   "file_extension": ".py",
   "mimetype": "text/x-python",
   "name": "python",
   "nbconvert_exporter": "python",
   "pygments_lexer": "ipython3",
   "version": "3.12.3"
  }
 },
 "nbformat": 4,
 "nbformat_minor": 2
}
