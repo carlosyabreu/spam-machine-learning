{
 "cells": [
  {
   "cell_type": "code",
   "execution_count": 51,
   "metadata": {},
   "outputs": [],
   "source": [
    "def add(n1: int, n2: int) -> int:\n",
    "    return n1 + n2\n",
    "\n",
    "def subtract(n1: int, n2: int) -> int:\n",
    "    return n1 - n2\n",
    "\n",
    "def multiply(n1: int, n2: int) -> int:\n",
    "    return n1 * n2\n",
    "\n",
    "def divide(n1: int, n2: int) -> int:\n",
    "    if n2 != 0:\n",
    "        return n1 / n2\n",
    "    else:\n",
    "        return \"Divisor zero is not allowed\"\n",
    "\n"
   ]
  }
 ],
 "metadata": {
  "kernelspec": {
   "display_name": ".venv",
   "language": "python",
   "name": "python3"
  },
  "language_info": {
   "codemirror_mode": {
    "name": "ipython",
    "version": 3
   },
   "file_extension": ".py",
   "mimetype": "text/x-python",
   "name": "python",
   "nbconvert_exporter": "python",
   "pygments_lexer": "ipython3",
   "version": "3.12.3"
  }
 },
 "nbformat": 4,
 "nbformat_minor": 2
}
