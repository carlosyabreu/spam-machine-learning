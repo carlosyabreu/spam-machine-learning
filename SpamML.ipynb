{
 "cells": [
  {
   "cell_type": "code",
   "execution_count": 7,
   "metadata": {},
   "outputs": [
    {
     "name": "stdout",
     "output_type": "stream",
     "text": [
      "[[1. 1. 1. 1. 1.]\n",
      " [1. 1. 1. 1. 1.]]\n",
      "[1 3 5 7 9]\n"
     ]
    }
   ],
   "source": [
    "import numpy as np\n",
    "\n",
    "arr_list = [1, 2, 3, 4]\n",
    "arr = np.array(arr_list)\n",
    "# print(arr)\n",
    "\n",
    "zeroes = np.zeros((3, 3))\n",
    "# print(zeroes)\n",
    "\n",
    "ones = np.ones((2, 5))\n",
    "print(ones)\n",
    "\n",
    "arange = np.arange(1, 10, 2)\n",
    "print(arange)"
   ]
  }
 ],
 "metadata": {
  "kernelspec": {
   "display_name": ".venv",
   "language": "python",
   "name": "python3"
  },
  "language_info": {
   "codemirror_mode": {
    "name": "ipython",
    "version": 3
   },
   "file_extension": ".py",
   "mimetype": "text/x-python",
   "name": "python",
   "nbconvert_exporter": "python",
   "pygments_lexer": "ipython3",
   "version": "3.12.3"
  }
 },
 "nbformat": 4,
 "nbformat_minor": 2
}
