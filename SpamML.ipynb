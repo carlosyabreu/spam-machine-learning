{
 "cells": [
  {
   "cell_type": "code",
   "execution_count": 51,
   "metadata": {},
   "outputs": [],
   "source": [
    "def add(n1: int, n2: int) -> int:\n",
    "    return n1 + n2\n",
    "\n",
    "def subtract(n1: int, n2: int) -> int:\n",
    "    return n1 - n2\n",
    "\n",
    "def multiply(n1: int, n2: int) -> int:\n",
    "    return n1 * n2\n",
    "\n",
    "def divide(n1: int, n2: int) -> int:\n",
    "    if n2 != 0:\n",
    "        return n1 / n2\n",
    "    else:\n",
    "        return \"Divisor zero is not allowed\"\n",
    "\n",
    "while True:\n",
    "    print(\"\\nMenu\")\n",
    "    print(\"1. Addition\")\n",
    "    print(\"2. Subtraction\")\n",
    "    print(\"3. Multiplication\")\n",
    "    print(\"4. Division\")\n",
    "    print(\"5. Exit\")\n",
    "\n",
    "    choice: str = input(\"Enter your choise: \")\n",
    "    if choice == \"5\":\n",
    "        break\n",
    "    \n",
    "    num1: int = int(input(\"Enter first number: \"))\n",
    "    num2: int = int(input(\"Enter second number: \"))\n",
    "    \n",
    "    if choice == \"1\":\n",
    "        print(\"Result: \", add(num1, num2))\n",
    "    elif choice == \"2\":\n",
    "        print(\"Result: \", subtract(num1, num2))\n",
    "    elif choice == \"3\":\n",
    "        print(\"Result: \", multiply(num1, num2))\n",
    "    elif choice == \"4\":\n",
    "        print(\"Result: \", divide(num1, num2))\n",
    "    else:\n",
    "        print(\"Invalid choise. Please insert the right choise.\")\n",
    "\n"
   ]
  }
 ],
 "metadata": {
  "kernelspec": {
   "display_name": ".venv",
   "language": "python",
   "name": "python3"
  },
  "language_info": {
   "codemirror_mode": {
    "name": "ipython",
    "version": 3
   },
   "file_extension": ".py",
   "mimetype": "text/x-python",
   "name": "python",
   "nbconvert_exporter": "python",
   "pygments_lexer": "ipython3",
   "version": "3.12.3"
  }
 },
 "nbformat": 4,
 "nbformat_minor": 2
}
