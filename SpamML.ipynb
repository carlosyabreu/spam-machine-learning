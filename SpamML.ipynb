{
 "cells": [
  {
   "cell_type": "code",
   "execution_count": 44,
   "metadata": {},
   "outputs": [
    {
     "name": "stdout",
     "output_type": "stream",
     "text": [
      "Positive number\n"
     ]
    }
   ],
   "source": [
    "num: int = int(input(\"Insert a number: \"))\n",
    "\n",
    "if num > 1:\n",
    "    for i in range(2, int(num ** 0.5 + 1)):\n",
    "        if num % i == 0:\n",
    "            print(f\"{num} is not a prime\")\n",
    "        else:\n",
    "            print(f\"{num} is a prime\")\n",
    "else:\n",
    "    print(f\"{num} is not a prime\")\n"
   ]
  }
 ],
 "metadata": {
  "kernelspec": {
   "display_name": ".venv",
   "language": "python",
   "name": "python3"
  },
  "language_info": {
   "codemirror_mode": {
    "name": "ipython",
    "version": 3
   },
   "file_extension": ".py",
   "mimetype": "text/x-python",
   "name": "python",
   "nbconvert_exporter": "python",
   "pygments_lexer": "ipython3",
   "version": "3.12.3"
  }
 },
 "nbformat": 4,
 "nbformat_minor": 2
}
